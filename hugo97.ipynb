{
  "nbformat": 4,
  "nbformat_minor": 0,
  "metadata": {
    "colab": {
      "provenance": [],
      "authorship_tag": "ABX9TyPm68DRQ8QnoGRde4juajqs",
      "include_colab_link": true
    },
    "kernelspec": {
      "name": "python3",
      "display_name": "Python 3"
    },
    "language_info": {
      "name": "python"
    }
  },
  "cells": [
    {
      "cell_type": "markdown",
      "metadata": {
        "id": "view-in-github",
        "colab_type": "text"
      },
      "source": [
        "<a href=\"https://colab.research.google.com/github/HugoVasconcelos13/-teste6-projeto20/blob/main/hugo97.ipynb\" target=\"_parent\"><img src=\"https://colab.research.google.com/assets/colab-badge.svg\" alt=\"Open In Colab\"/></a>"
      ]
    },
    {
      "cell_type": "code",
      "execution_count": 1,
      "metadata": {
        "id": "S_TQ2r0DDEhJ"
      },
      "outputs": [],
      "source": [
        "from calendar import isleap"
      ]
    },
    {
      "cell_type": "code",
      "source": [
        "ano = int(input('Digite o ano: '))"
      ],
      "metadata": {
        "colab": {
          "base_uri": "https://localhost:8080/"
        },
        "id": "6vqVvZqfGP30",
        "outputId": "9e6d877f-3625-4bc4-d06f-d541d93f9784"
      },
      "execution_count": 6,
      "outputs": [
        {
          "name": "stdout",
          "output_type": "stream",
          "text": [
            "Digite o ano: 1235\n"
          ]
        }
      ]
    },
    {
      "cell_type": "code",
      "source": [
        "if isleap(ano):\n",
        "    print('É bissexto')\n",
        "else:\n",
        "    print('Não é bissexto')"
      ],
      "metadata": {
        "colab": {
          "base_uri": "https://localhost:8080/"
        },
        "id": "v_KbbadmG0Y0",
        "outputId": "c155c0fc-a931-41e1-8ff7-9549708111c5"
      },
      "execution_count": 7,
      "outputs": [
        {
          "output_type": "stream",
          "name": "stdout",
          "text": [
            "Não é bissexto\n"
          ]
        }
      ]
    },
    {
      "cell_type": "code",
      "source": [],
      "metadata": {
        "id": "0wUNvNsDG-vF"
      },
      "execution_count": null,
      "outputs": []
    }
  ]
}