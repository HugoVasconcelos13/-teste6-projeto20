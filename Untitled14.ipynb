{
  "nbformat": 4,
  "nbformat_minor": 0,
  "metadata": {
    "colab": {
      "provenance": [],
      "include_colab_link": true
    },
    "kernelspec": {
      "name": "python3",
      "display_name": "Python 3"
    },
    "language_info": {
      "name": "python"
    }
  },
  "cells": [
    {
      "cell_type": "markdown",
      "metadata": {
        "id": "view-in-github",
        "colab_type": "text"
      },
      "source": [
        "<a href=\"https://colab.research.google.com/github/HugoVasconcelos13/-teste6-projeto20/blob/main/Untitled14.ipynb\" target=\"_parent\"><img src=\"https://colab.research.google.com/assets/colab-badge.svg\" alt=\"Open In Colab\"/></a>"
      ]
    },
    {
      "cell_type": "code",
      "source": [
        "name = input(\"Digite seu nome aqui: \")\n",
        " iteration = len(name)\n",
        " print(\"*\" * (iteration + 4))\n",
        " for i in range(iteration):\n",
        "  print(\"**\",name[i], \"**\", sep=\" \", end=\" \")\n",
        "  print(\"\\n\")\n",
        "  print(\"*\" * (iteration + 4))"
      ],
      "metadata": {
        "colab": {
          "base_uri": "https://localhost:8080/"
        },
        "id": "7UnexHDvFlv5",
        "outputId": "1c175317-f3e6-4516-e558-28022bc0205f"
      },
      "execution_count": null,
      "outputs": [
        {
          "output_type": "stream",
          "name": "stdout",
          "text": [
            "Digite seu nome aqui: hugo\n",
            "********\n",
            "** h ** \n",
            "\n",
            "** u ** \n",
            "\n",
            "** g ** \n",
            "\n",
            "** o ** \n",
            "\n",
            "********\n"
          ]
        }
      ]
    },
    {
      "cell_type": "code",
      "source": [],
      "metadata": {
        "id": "g4y0kWoWGN6Y"
      },
      "execution_count": null,
      "outputs": []
    }
  ]
}