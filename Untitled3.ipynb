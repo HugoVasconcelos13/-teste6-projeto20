{
  "nbformat": 4,
  "nbformat_minor": 0,
  "metadata": {
    "colab": {
      "provenance": [],
      "authorship_tag": "ABX9TyOJ5as0N1ypvoy4Ot8efRcr",
      "include_colab_link": true
    },
    "kernelspec": {
      "name": "python3",
      "display_name": "Python 3"
    },
    "language_info": {
      "name": "python"
    }
  },
  "cells": [
    {
      "cell_type": "markdown",
      "metadata": {
        "id": "view-in-github",
        "colab_type": "text"
      },
      "source": [
        "<a href=\"https://colab.research.google.com/github/HugoVasconcelos13/-teste6-projeto20/blob/main/Untitled3.ipynb\" target=\"_parent\"><img src=\"https://colab.research.google.com/assets/colab-badge.svg\" alt=\"Open In Colab\"/></a>"
      ]
    },
    {
      "cell_type": "code",
      "source": [
        "class MovieReview:\n",
        "    def __init__(self, movie, story, actors, music):\n",
        "        self.__movie_name = movie\n",
        "        self.__story_rating = story\n",
        "        self.__actor_rating = actors\n",
        "        self.__music_rating = music\n",
        "\n",
        "        self.__avg = int((self.__story_rating + self.__actor_rating + self.__music_rating) / 3)\n",
        "\n",
        "        self.myrating = {\n",
        "            \"Movie Name\": self.__movie_name,\n",
        "            \"Story Rating\": self.__story_rating,\n",
        "            \"Actor Rating\": self.__actor_rating,\n",
        "            \"Music Rating\": self.__music_rating,\n",
        "            \"Avg Rating\": self.__avg\n",
        "        }\n",
        "\n",
        "        movie_list.append(self.myrating)\n",
        "\n",
        "    def avg_star_ratings(self, movie_list):\n",
        "        for movie in movie_list:\n",
        "            if movie[\"Avg Rating\"] == 1:\n",
        "                print(\"Obrigado pela resposta! Você avaliou o filme com *\")\n",
        "                print(movie)\n",
        "\n",
        "                review2 = MovieReview(\"Titanic\", 5, 5, 5)\n",
        "                review2.add_movie_ratings(movieviews)\n",
        "                review2.avg_star_ratings(movieviews)\n"
      ],
      "metadata": {
        "id": "ZPnsvSm5f9bo"
      },
      "execution_count": 10,
      "outputs": []
    }
  ]
}